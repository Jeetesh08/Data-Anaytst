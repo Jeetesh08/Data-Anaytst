{
 "cells": [
  {
   "cell_type": "markdown",
   "id": "24e16689",
   "metadata": {},
   "source": [
    "# 1. Write a Python program to print \"Hello Python\"?"
   ]
  },
  {
   "cell_type": "code",
   "execution_count": 3,
   "id": "45cab5d6",
   "metadata": {},
   "outputs": [
    {
     "name": "stdout",
     "output_type": "stream",
     "text": [
      "Hello Python\n"
     ]
    }
   ],
   "source": [
    " print (\"Hello Python\")"
   ]
  },
  {
   "cell_type": "markdown",
   "id": "71d6839f",
   "metadata": {},
   "source": [
    "# 2. Write a Python program to do arithmetical operations addition and division.?\n"
   ]
  },
  {
   "cell_type": "code",
   "execution_count": 3,
   "id": "c2774ac7",
   "metadata": {},
   "outputs": [
    {
     "name": "stdout",
     "output_type": "stream",
     "text": [
      "Enter First  Number\n",
      "30\n",
      "Enter Second  Number\n",
      "15\n",
      "the sum of Number is  45\n",
      "the division of Number is  2.0\n"
     ]
    }
   ],
   "source": [
    "print(\"Enter First  Number\")\n",
    "a = int(input())\n",
    "print(\"Enter Second  Number\")\n",
    "b = int(input())\n",
    "print(\"the sum of Number is \", a+b)\n",
    "print(\"the division of Number is \", a/b)"
   ]
  },
  {
   "cell_type": "markdown",
   "id": "907bcbf6",
   "metadata": {},
   "source": [
    "# 3. Write a Python program to find the area of a triangle?\n"
   ]
  },
  {
   "cell_type": "code",
   "execution_count": 4,
   "id": "99453669",
   "metadata": {
    "scrolled": true
   },
   "outputs": [
    {
     "name": "stdout",
     "output_type": "stream",
     "text": [
      "Enter the Base of a triangle :12\n",
      "Enter the Height of a triangle :10\n",
      "the area of a triangle is  60.0\n"
     ]
    }
   ],
   "source": [
    "b = int(input(\"Enter the Base of a triangle :\"))\n",
    "h = int(input(\"Enter the Height of a triangle :\"))\n",
    "print (\"the area of a triangle is \" , 1/2*b*h)"
   ]
  },
  {
   "cell_type": "markdown",
   "id": "73cff28f",
   "metadata": {},
   "source": [
    "#  4. Write a Python program to swap two variables?\n"
   ]
  },
  {
   "cell_type": "code",
   "execution_count": 2,
   "id": "4225fe72",
   "metadata": {},
   "outputs": [
    {
     "name": "stdout",
     "output_type": "stream",
     "text": [
      "enter first number12\n",
      "enter second number48\n",
      "48 12\n"
     ]
    }
   ],
   "source": [
    "a = int(input(\"enter first number\"))\n",
    "b = int(input(\"enter second number\"))\n",
    "temp = a\n",
    "a = b\n",
    "b = temp\n",
    "print (a,b)"
   ]
  },
  {
   "cell_type": "markdown",
   "id": "6c6aaf92",
   "metadata": {},
   "source": [
    "#  5.Write a Python program to generate a random number?\n"
   ]
  },
  {
   "cell_type": "code",
   "execution_count": 4,
   "id": "a4f20b29",
   "metadata": {},
   "outputs": [
    {
     "name": "stdout",
     "output_type": "stream",
     "text": [
      "0.17659031362016975\n"
     ]
    }
   ],
   "source": [
    "import random\n",
    "n = random.random()\n",
    "print(n)"
   ]
  }
 ],
 "metadata": {
  "kernelspec": {
   "display_name": "Python 3 (ipykernel)",
   "language": "python",
   "name": "python3"
  },
  "language_info": {
   "codemirror_mode": {
    "name": "ipython",
    "version": 3
   },
   "file_extension": ".py",
   "mimetype": "text/x-python",
   "name": "python",
   "nbconvert_exporter": "python",
   "pygments_lexer": "ipython3",
   "version": "3.9.7"
  }
 },
 "nbformat": 4,
 "nbformat_minor": 5
}
