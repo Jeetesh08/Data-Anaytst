{
 "cells": [
  {
   "cell_type": "markdown",
   "id": "eab9fbbd",
   "metadata": {},
   "source": [
    "#  1. Write a Python program to convert kilometers to miles?\n"
   ]
  },
  {
   "cell_type": "code",
   "execution_count": 4,
   "id": "62cd0391",
   "metadata": {},
   "outputs": [
    {
     "name": "stdout",
     "output_type": "stream",
     "text": [
      "Enter Distance in kilometer: 3\n",
      "\n",
      "Equivalent Distance in miles = 1.86\n"
     ]
    }
   ],
   "source": [
    "def kilo_mile(kilometer):\n",
    " return(0.62137119*kilometer)\n",
    "\n",
    "print(\"Enter Distance in kilometer: \", end=\"\")\n",
    "\n",
    "kilo = float(input())\n",
    "             \n",
    "             \n",
    "mile = kilo_mile(kilo)\n",
    "\n",
    "print(\"\\nEquivalent Distance in miles = {:.2f}\".format(mile))"
   ]
  },
  {
   "cell_type": "markdown",
   "id": "131d1b32",
   "metadata": {},
   "source": [
    "# or (without function )"
   ]
  },
  {
   "cell_type": "code",
   "execution_count": 5,
   "id": "59606151",
   "metadata": {},
   "outputs": [
    {
     "name": "stdout",
     "output_type": "stream",
     "text": [
      "Enter Distance in kilometer\n",
      "3\n",
      "\n",
      "Equivalent Distance in miles 1.8641135699999998\n"
     ]
    }
   ],
   "source": [
    "print (\"Enter Distance in kilometer\")\n",
    "kilo = float(input())\n",
    "mile = 0.62137119*kilo\n",
    "print(\"\\nEquivalent Distance in miles\" ,mile)\n"
   ]
  },
  {
   "cell_type": "markdown",
   "id": "2e646181",
   "metadata": {},
   "source": [
    "# 2.Write a Python program to convert Celsius to Fahrenheit?"
   ]
  },
  {
   "cell_type": "code",
   "execution_count": 7,
   "id": "cf6a1cc6",
   "metadata": {},
   "outputs": [
    {
     "name": "stdout",
     "output_type": "stream",
     "text": [
      "Enter temprature in celsius\n",
      "37\n",
      "\n",
      "Equivalent temprature in Fahrenheit = 98.60\n"
     ]
    }
   ],
   "source": [
    "def celTofahr(cel):\n",
    "    return ((9/5 * cel) + 32)\n",
    "\n",
    "print(\"Enter temprature in celsius\")\n",
    "cels = float(input())\n",
    "\n",
    "fahre = celTofahr(cels)\n",
    "print(\"\\nEquivalent temprature in Fahrenheit = {:.2f}\".format(fahre))\n"
   ]
  },
  {
   "cell_type": "markdown",
   "id": "f3b6336b",
   "metadata": {},
   "source": [
    "#  3. Write a Python program to display calendar?\n"
   ]
  },
  {
   "cell_type": "code",
   "execution_count": 9,
   "id": "126bf63b",
   "metadata": {},
   "outputs": [
    {
     "name": "stdout",
     "output_type": "stream",
     "text": [
      "Enter Year2022\n",
      "Enter Month08\n",
      "    August 2022\n",
      "Mo Tu We Th Fr Sa Su\n",
      " 1  2  3  4  5  6  7\n",
      " 8  9 10 11 12 13 14\n",
      "15 16 17 18 19 20 21\n",
      "22 23 24 25 26 27 28\n",
      "29 30 31\n",
      "\n"
     ]
    }
   ],
   "source": [
    "import calendar\n",
    "yy = int(input(\"Enter Year\"))\n",
    "mm = int(input(\"Enter Month\"))\n",
    "print(calendar.month(yy,mm))"
   ]
  },
  {
   "cell_type": "markdown",
   "id": "6927ca95",
   "metadata": {},
   "source": [
    "#  4. Write a Python program to solve quadratic equation?"
   ]
  },
  {
   "cell_type": "code",
   "execution_count": 13,
   "id": "b2e18074",
   "metadata": {},
   "outputs": [
    {
     "name": "stdout",
     "output_type": "stream",
     "text": [
      "Enter a :1\n",
      "Enter b :10\n",
      "Enter c :-24\n",
      "Real and Different roots\n",
      "2.0\n",
      "-12.0\n"
     ]
    }
   ],
   "source": [
    "import math\n",
    "def equationroots( a, b, c): \n",
    "    dis = b*b -4*a*c\n",
    "    sqrt_val  = math.sqrt(abs(dis))\n",
    "    \n",
    "    if (dis>0):\n",
    "        \n",
    "        print(\"Real and Different roots\")\n",
    "        print ((-b + sqrt_val)/2*a)\n",
    "        print ((-b - sqrt_val)/2*a)\n",
    "    \n",
    "    elif (dis ==0):\n",
    "        \n",
    "        print (\"Real and Same roots\")\n",
    "        print(-b/2*a)\n",
    "    \n",
    "    else:\n",
    "        \n",
    "        print(\"Complex roots\")\n",
    "        print(- b / (2 * a), \" + i\", sqrt_val) \n",
    "        print(- b / (2 * a), \" - i\", sqrt_val)\n",
    "    \n",
    "\n",
    "    \n",
    "a = int(input(\"Enter a :\"))  \n",
    "b= int(input(\"Enter b :\")) \n",
    "c = int(input(\"Enter c :\")) \n",
    "if a == 0: \n",
    "        print(\"Input correct quadratic equation\") \n",
    "  \n",
    "else:\n",
    "    equationroots(a, b, c)"
   ]
  },
  {
   "cell_type": "markdown",
   "id": "145d4bb5",
   "metadata": {},
   "source": [
    "#  5. Write a Python program to swap two variables without temp variable?"
   ]
  },
  {
   "cell_type": "code",
   "execution_count": 14,
   "id": "c061830b",
   "metadata": {},
   "outputs": [
    {
     "name": "stdout",
     "output_type": "stream",
     "text": [
      "Enter value of x45\n",
      "Enter value of y85\n",
      "Before swapping: \n",
      "Value of x :  45  and y :  85\n",
      "After swapping: \n",
      "Value of x :  85  and y :  45\n"
     ]
    }
   ],
   "source": [
    "x = int(input(\"Enter value of x\"))\n",
    "y = int(input(\"Enter value of y\"))\n",
    " \n",
    "print (\"Before swapping: \")\n",
    "print(\"Value of x : \", x, \" and y : \", y)\n",
    " \n",
    "\n",
    "x, y = y, x\n",
    " \n",
    "print (\"After swapping: \")\n",
    "print(\"Value of x : \", x, \" and y : \", y)"
   ]
  }
 ],
 "metadata": {
  "kernelspec": {
   "display_name": "Python 3 (ipykernel)",
   "language": "python",
   "name": "python3"
  },
  "language_info": {
   "codemirror_mode": {
    "name": "ipython",
    "version": 3
   },
   "file_extension": ".py",
   "mimetype": "text/x-python",
   "name": "python",
   "nbconvert_exporter": "python",
   "pygments_lexer": "ipython3",
   "version": "3.9.7"
  }
 },
 "nbformat": 4,
 "nbformat_minor": 5
}
